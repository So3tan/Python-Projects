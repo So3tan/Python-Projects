{
 "cells": [
  {
   "cell_type": "code",
   "execution_count": null,
   "id": "00edfd40-b57a-4af6-920b-6a6e9d6bc71b",
   "metadata": {},
   "outputs": [],
   "source": [
    "import numpy as np\n",
    "new_file = 'Loan_prediction_dataset copy.csv'\n",
    "# Open the CSV file\n",
    "with open(new_file, 'r') as file:\n",
    "    data = np.genfromtxt(new_file, delimiter=',', skip_header=1)\n",
    "\n",
    "# Extract the loan amounts (assuming they are in the second column)\n",
    "loan_amounts = data[:, 8]\n",
    "\n",
    "# Calculate and print statistics , .nan is to ignore all the nan in the data set\n",
    "mean_loan_amount = np.nanmean(loan_amounts)\n",
    "median_loan_amount = np.nanmedian(loan_amounts)\n",
    "std_dev_loan_amount = np.nanstd(loan_amounts)\n",
    "\n",
    "print(\"Mean loan amount:\", mean_loan_amount)\n",
    "print(\"Median loan amount:\", median_loan_amount)\n",
    "print(\"Standard deviation of loan amounts:\", std_dev_loan_amount)"
   ]
  },
  {
   "cell_type": "code",
   "execution_count": null,
   "id": "1f46b9c0-2e52-4992-ae21-d11ac23ddb5a",
   "metadata": {},
   "outputs": [],
   "source": []
  }
 ],
 "metadata": {
  "kernelspec": {
   "display_name": "Python [conda env:base] *",
   "language": "python",
   "name": "conda-base-py"
  },
  "language_info": {
   "codemirror_mode": {
    "name": "ipython",
    "version": 3
   },
   "file_extension": ".py",
   "mimetype": "text/x-python",
   "name": "python",
   "nbconvert_exporter": "python",
   "pygments_lexer": "ipython3",
   "version": "3.12.7"
  }
 },
 "nbformat": 4,
 "nbformat_minor": 5
}
