{
 "cells": [
  {
   "cell_type": "code",
   "execution_count": 102,
   "id": "7322761a-8e26-40ef-8fb6-d7cecde5c905",
   "metadata": {
    "scrolled": true
   },
   "outputs": [
    {
     "name": "stdout",
     "output_type": "stream",
     "text": [
      "Welcome to Python Pizza Deliveries\n"
     ]
    },
    {
     "name": "stdin",
     "output_type": "stream",
     "text": [
      "Available sizes are Small, Medium and Large. Please input your preference: MEDIum\n",
      "Do you want Pepperoni? Yes or No: nO\n",
      "Extra Cheese? Yes or No: yes\n"
     ]
    },
    {
     "name": "stdout",
     "output_type": "stream",
     "text": [
      "Your bill is: $21\n"
     ]
    }
   ],
   "source": [
    "\n",
    "    x = \"Welcome to Python Pizza Deliveries\"\n",
    "    print (x)\n",
    "    size = input (\"Available sizes are Small, Medium and Large. Please input your preference:\").lower()\n",
    "    if size == \"small\":\n",
    "        price = 15\n",
    "    elif size == \"medium\":\n",
    "        price = 20\n",
    "    elif size == \"large\":\n",
    "        price = 25\n",
    "    \n",
    "    add_pepperoni = input (\"Do you want Pepperoni? Yes or No:\").lower()\n",
    "    if add_pepperoni == \"yes\":\n",
    "        if size == \"small\":\n",
    "            price += 2\n",
    "        else:\n",
    "            price += 3\n",
    "\n",
    "    extra_cheese = input (\"Extra Cheese? Yes or No:\").lower()\n",
    "    if extra_cheese == \"yes\":\n",
    "        price += 1\n",
    "\n",
    "    print(f\"Your bill is: ${price}\")"
   ]
  }
 ],
 "metadata": {
  "kernelspec": {
   "display_name": "Python [conda env:base] *",
   "language": "python",
   "name": "conda-base-py"
  },
  "language_info": {
   "codemirror_mode": {
    "name": "ipython",
    "version": 3
   },
   "file_extension": ".py",
   "mimetype": "text/x-python",
   "name": "python",
   "nbconvert_exporter": "python",
   "pygments_lexer": "ipython3",
   "version": "3.12.7"
  }
 },
 "nbformat": 4,
 "nbformat_minor": 5
}
