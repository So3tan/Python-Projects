{
 "cells": [
  {
   "cell_type": "code",
   "execution_count": null,
   "id": "abbd772e-2100-4fc8-87b3-776abdd53317",
   "metadata": {},
   "outputs": [],
   "source": [
    "# Define basic mathematical functions\n",
    "def add(n1, n2):\n",
    "    return n1 + n2\n",
    "\n",
    "def subtract(n1, n2):\n",
    "    return n1 - n2\n",
    "\n",
    "def multiply(n1, n2):\n",
    "    return n1 * n2\n",
    "\n",
    "def divide(n1, n2):\n",
    "    if n2 == 0:\n",
    "        return \"Error, Division by zero.\"\n",
    "    return n1 / n2\n",
    "\n",
    "# Dictionary storing operations\n",
    "operations = {\n",
    "    \"+\": add,\n",
    "    \"-\": subtract,\n",
    "    \"*\": multiply,\n",
    "    \"/\": divide\n",
    "}"
   ]
  },
  {
   "cell_type": "code",
   "execution_count": null,
   "id": "88d87358-ba8c-46ff-8e90-079d489a89bb",
   "metadata": {},
   "outputs": [],
   "source": [
    "# Function to get a valid number from the user\n",
    "def get_valid_number(prompt):\n",
    "    while True:\n",
    "        try:\n",
    "            return float(input(prompt))  # Convert input to float\n",
    "        except ValueError:\n",
    "            print(\"Invalid input. Please enter a valid number.\")\n",
    "\n",
    "# Calculator function\n",
    "def calculator():\n",
    "    print(\"Welcome to the calculator\")\n",
    "    \n",
    "    num1 = get_valid_number(\"Enter the first number: \")\n",
    "\n",
    "    while True:\n",
    "        # Display available operations\n",
    "        print(\"Available operations: \" + \" \".join(operations.keys()))\n",
    "        \n",
    "        operation_symbol = input(\"Pick an operation: \")\n",
    "        while operation_symbol not in operations:\n",
    "            print(\"Invalid operation. Please choose from (+, -, *, /).\")\n",
    "            operation_symbol = input(\"Pick an operation: \")\n",
    "\n",
    "        num2 = get_valid_number(\"Enter the next number: \")\n",
    "        \n",
    "        calculation_function = operations[operation_symbol]\n",
    "        answer = calculation_function(num1, num2)\n",
    "        \n",
    "        print(f\"{num1} {operation_symbol} {num2} = {answer}\")\n",
    "        \n",
    "        # Ask the user if they want to continue with the result, start over, or exit\n",
    "        next_step = input(f\"Type 'y' to continue with {answer}, 'n' to start a new calculation, or 'exit' to stop: \").lower()\n",
    "        \n",
    "        if next_step == 'y':\n",
    "            num1 = answer\n",
    "        elif next_step == 'n':\n",
    "            calculator()\n",
    "            break  # Restart the calculator\n",
    "        elif next_step == 'exit':\n",
    "            print(\"Thank you for using the calculator\")\n",
    "            break  # Exit the calculator"
   ]
  },
  {
   "cell_type": "code",
   "execution_count": null,
   "id": "0b44ac95-984c-4096-b834-dc7d7e42d572",
   "metadata": {},
   "outputs": [],
   "source": [
    "# Start the calculator\n",
    "calculator()"
   ]
  }
 ],
 "metadata": {
  "kernelspec": {
   "display_name": "Python [conda env:base] *",
   "language": "python",
   "name": "conda-base-py"
  },
  "language_info": {
   "codemirror_mode": {
    "name": "ipython",
    "version": 3
   },
   "file_extension": ".py",
   "mimetype": "text/x-python",
   "name": "python",
   "nbconvert_exporter": "python",
   "pygments_lexer": "ipython3",
   "version": "3.12.7"
  }
 },
 "nbformat": 4,
 "nbformat_minor": 5
}
